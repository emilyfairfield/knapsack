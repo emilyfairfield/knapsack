{
 "cells": [
  {
   "cell_type": "markdown",
   "metadata": {},
   "source": [
    "Formulate the Knapsack Problem as a Mixed Integer Linear Program"
   ]
  },
  {
   "cell_type": "markdown",
   "metadata": {},
   "source": [
    "Import Libraries:"
   ]
  },
  {
   "cell_type": "code",
   "execution_count": 42,
   "metadata": {},
   "outputs": [],
   "source": [
    "from scipy.optimize import milp, Bounds, LinearConstraint\n",
    "import pandas as pd\n",
    "import numpy as np"
   ]
  },
  {
   "cell_type": "markdown",
   "metadata": {},
   "source": [
    "Let's imagine our knapsack is a diaper bag. Let's give some values and weights to some items we'd like to pack in the diaper bag for our afternoon of errands:"
   ]
  },
  {
   "cell_type": "code",
   "execution_count": 43,
   "metadata": {},
   "outputs": [
    {
     "name": "stdout",
     "output_type": "stream",
     "text": [
      "               weight  value  minimum  maximum\n",
      "bottle           10.0   30.0      1.0      inf\n",
      "burp_cloth        5.0    5.0      0.0      inf\n",
      "coffee           10.0   15.0      0.0      inf\n",
      "diaper            3.0   20.0      1.0      6.0\n",
      "extra_clothes    10.0    5.0      0.0      inf\n",
      "keys              3.0   50.0      1.0      1.0\n",
      "pacifier          0.5   10.0      0.0      3.0\n",
      "teddy_bear       20.0    5.0      0.0      inf\n",
      "wallet            5.0   50.0      1.0      1.0\n",
      "water_bottle     20.0    8.0      0.0      inf\n",
      "wipes            10.0   20.0      1.0      1.0\n"
     ]
    }
   ],
   "source": [
    "df = pd.DataFrame(columns=['weight','value','minimum','maximum'])\n",
    "df.loc['bottle'] = [10,30,1,np.inf]\n",
    "df.loc['burp_cloth'] = [5,5,0,np.inf]\n",
    "df.loc['coffee'] = [10,15,0,np.inf]\n",
    "df.loc['diaper'] = [3,20,1,6]\n",
    "df.loc['extra_clothes'] = [10,5,0,np.inf]\n",
    "df.loc['keys'] = [3,50,1,1]\n",
    "df.loc['pacifier'] = [0.5,10,0,3]\n",
    "df.loc['teddy_bear'] = [20,5,0,np.inf]\n",
    "df.loc['wallet'] = [5,50,1,1]\n",
    "df.loc['water_bottle'] = [20,8,0,np.inf]\n",
    "df.loc['wipes'] = [10,20,1,1]\n",
    "\n",
    "print(df)"
   ]
  },
  {
   "cell_type": "markdown",
   "metadata": {},
   "source": [
    "scipy.optimize.milp treats the objective function as something that is to be minimized, so the objective function must be written accordingly. We want to maximize the value of the objects in the knapsack, but to fit within scipy's framework, we must write this as \"minimize the negative total value in the knapsack\"."
   ]
  },
  {
   "cell_type": "code",
   "execution_count": 44,
   "metadata": {},
   "outputs": [],
   "source": [
    "def get_objective(df):\n",
    "    negative = -df['value']\n",
    "    return negative.tolist()"
   ]
  },
  {
   "cell_type": "code",
   "execution_count": 45,
   "metadata": {},
   "outputs": [],
   "source": [
    "def get_constraints(df,ub):\n",
    "    return LinearConstraint(A=df['weight'].tolist(),ub=ub)"
   ]
  },
  {
   "cell_type": "code",
   "execution_count": 46,
   "metadata": {},
   "outputs": [],
   "source": [
    "def get_bounds(df):\n",
    "    minimums = df['minimum'].tolist()\n",
    "    maximums = df['maximum'].tolist()\n",
    "    return Bounds(lb=minimums,ub=maximums)"
   ]
  },
  {
   "cell_type": "code",
   "execution_count": 47,
   "metadata": {},
   "outputs": [],
   "source": [
    "result = milp(c=get_objective(df),integrality=1,bounds=get_bounds(df),constraints=get_constraints(df,100))"
   ]
  },
  {
   "cell_type": "code",
   "execution_count": 48,
   "metadata": {},
   "outputs": [
    {
     "name": "stdout",
     "output_type": "stream",
     "text": [
      "Total Value: 450\n",
      "               weight  value  minimum  maximum  quantities\n",
      "bottle           10.0   30.0      1.0      inf         6.0\n",
      "burp_cloth        5.0    5.0      0.0      inf         0.0\n",
      "coffee           10.0   15.0      0.0      inf         0.0\n",
      "diaper            3.0   20.0      1.0      6.0         6.0\n",
      "extra_clothes    10.0    5.0      0.0      inf         0.0\n",
      "keys              3.0   50.0      1.0      1.0         1.0\n",
      "pacifier          0.5   10.0      0.0      3.0         3.0\n",
      "teddy_bear       20.0    5.0      0.0      inf         0.0\n",
      "wallet            5.0   50.0      1.0      1.0         1.0\n",
      "water_bottle     20.0    8.0      0.0      inf         0.0\n",
      "wipes            10.0   20.0      1.0      1.0         1.0\n"
     ]
    }
   ],
   "source": [
    "with np.printoptions(formatter={'float': '{:.0f}'.format}):\n",
    "    print(f\"Total Value: {-result.fun:.0f}\")\n",
    "    df['quantities'] = result.x\n",
    "    print(df)"
   ]
  }
 ],
 "metadata": {
  "kernelspec": {
   "display_name": "knapsack",
   "language": "python",
   "name": "python3"
  },
  "language_info": {
   "codemirror_mode": {
    "name": "ipython",
    "version": 3
   },
   "file_extension": ".py",
   "mimetype": "text/x-python",
   "name": "python",
   "nbconvert_exporter": "python",
   "pygments_lexer": "ipython3",
   "version": "3.9.12"
  }
 },
 "nbformat": 4,
 "nbformat_minor": 2
}
